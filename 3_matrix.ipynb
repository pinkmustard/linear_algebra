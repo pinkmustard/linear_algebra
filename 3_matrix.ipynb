{
 "cells": [
  {
   "cell_type": "markdown",
   "metadata": {},
   "source": [
    "### 스칼라"
   ]
  },
  {
   "cell_type": "code",
   "execution_count": 1,
   "metadata": {},
   "outputs": [
    {
     "name": "stdout",
     "output_type": "stream",
     "text": [
      "2\n",
      "3\n",
      "5\n",
      "-1\n",
      "6\n",
      "0.6666666666666666\n"
     ]
    }
   ],
   "source": [
    "# 스칼라의 정의\n",
    "x = 2\n",
    "print(x)\n",
    "x = 3\n",
    "print(x)\n",
    "x = 2\n",
    "y = 3\n",
    "# 덧셈\n",
    "z = x + y\n",
    "print(z)\n",
    "# 뺄셈\n",
    "z = x - y\n",
    "print(z)\n",
    "# 곱셉\n",
    "z = x * y\n",
    "print(z)\n",
    "# 나눗셈\n",
    "z = x / y\n",
    "print(z)"
   ]
  },
  {
   "cell_type": "markdown",
   "metadata": {},
   "source": [
    "### 벡터"
   ]
  },
  {
   "cell_type": "code",
   "execution_count": 2,
   "metadata": {},
   "outputs": [
    {
     "name": "stdout",
     "output_type": "stream",
     "text": [
      "[5, 7, 9]\n",
      "[-3, -3, -3]\n",
      "[6, 12, 9]\n",
      "[7, 6, 8]\n",
      "[0.14285714285714285, 0.6666666666666666, 2.0]\n"
     ]
    }
   ],
   "source": [
    "# 덧셈\n",
    "u = [1, 2, 3]\n",
    "v = [4, 5, 6]\n",
    "\n",
    "n = len(u)\n",
    "w = []\n",
    "\n",
    "for i in range(0, n):\n",
    "    val = u[i] + v[i]\n",
    "    w.append(val)\n",
    "print(w)\n",
    "\n",
    "# 뺄셈\n",
    "u = [1, 2, 3]\n",
    "v = [4, 5, 6]\n",
    "\n",
    "n = len(u)\n",
    "w = []\n",
    "\n",
    "for i in range(0, n):\n",
    "    val = u[i] - v[i]\n",
    "    w.append(val)\n",
    "print(w)\n",
    "\n",
    "# 곱셈(벡터 * 스칼라)\n",
    "u = [2, 4, 3]\n",
    "a = 3\n",
    "\n",
    "n = len(u)\n",
    "w = []\n",
    "\n",
    "for i in range(0, n):\n",
    "    val = a * u[i]\n",
    "    w.append(val)\n",
    "print(w)\n",
    "\n",
    "# 곱셈(벡터 * 벡터)\n",
    "u = [1, 2, 4]\n",
    "a = [7, 3, 2]\n",
    "\n",
    "n = len(u)\n",
    "w = []\n",
    "\n",
    "for i in range(0, n):\n",
    "    val = u[i] * a[i] \n",
    "    w.append(val)\n",
    "print(w)\n",
    "\n",
    "# 나눗셈\n",
    "u = [1, 2, 4]\n",
    "a = [7, 3, 2]\n",
    "\n",
    "n = len(u)\n",
    "w = []\n",
    "\n",
    "for i in range(0, n):\n",
    "    val = u[i] / a[i] \n",
    "    w.append(val)\n",
    "print(w)"
   ]
  },
  {
   "cell_type": "markdown",
   "metadata": {},
   "source": [
    "### 넘파이"
   ]
  },
  {
   "cell_type": "code",
   "execution_count": 3,
   "metadata": {},
   "outputs": [],
   "source": [
    "import numpy as np"
   ]
  },
  {
   "cell_type": "code",
   "execution_count": 5,
   "metadata": {},
   "outputs": [
    {
     "name": "stdout",
     "output_type": "stream",
     "text": [
      "[5 7 9]\n",
      "[-3 -3 -3]\n",
      "[3 6 9]\n",
      "[ 4 10 18]\n",
      "[0.25 0.4  0.5 ]\n"
     ]
    }
   ],
   "source": [
    "# 덧셈\n",
    "u = np.array([1,2,3])\n",
    "v = np.array([4,5,6])\n",
    "w = u + v\n",
    "print(w)\n",
    "# 뺄셈\n",
    "w = u - v\n",
    "print(w)\n",
    "# 곱셈(스칼라 * 벡터)\n",
    "a = 3\n",
    "w = a * u\n",
    "print(w)\n",
    "# 곱셈(벡터 * 벡터)\n",
    "w = u * v\n",
    "print(w)\n",
    "# 나눗셈\n",
    "w = u / v\n",
    "print(w)"
   ]
  },
  {
   "cell_type": "markdown",
   "metadata": {},
   "source": [
    "### 행렬"
   ]
  },
  {
   "cell_type": "code",
   "execution_count": 1,
   "metadata": {},
   "outputs": [
    {
     "name": "stdout",
     "output_type": "stream",
     "text": [
      "[[3, 11], [7, 3], [8, 6]]\n"
     ]
    }
   ],
   "source": [
    "# 행렬의 덧셈\n",
    "A = [[2, 7],[3, 4],[6, 1]]\n",
    "B = [[1, 4], [4, -1], [2, 5]]\n",
    "\n",
    "n= len(A)\n",
    "p = len(A[0])\n",
    "res = []\n",
    "\n",
    "for i in range(0, n):\n",
    "    row = []\n",
    "    for j in range(0, p):\n",
    "        val = A[i][j] + B[i][j]\n",
    "        row.append(val)\n",
    "    res.append(row)\n",
    "print(res)"
   ]
  },
  {
   "cell_type": "code",
   "execution_count": 3,
   "metadata": {},
   "outputs": [
    {
     "name": "stdout",
     "output_type": "stream",
     "text": [
      "[[1, 3], [-1, 5], [4, -4]]\n"
     ]
    }
   ],
   "source": [
    "# 행렬의 뺄셈\n",
    "A = [[2, 7],[3, 4],[6, 1]]\n",
    "B = [[1, 4], [4, -1], [2, 5]]\n",
    "\n",
    "n= len(A)\n",
    "p = len(A[0])\n",
    "res = []\n",
    "for i in range(0, n):\n",
    "    row = []\n",
    "    for j in range(0, p):\n",
    "        val = A[i][j] - B[i][j]\n",
    "        row.append(val)\n",
    "    res.append(row)\n",
    "print(res)"
   ]
  },
  {
   "cell_type": "code",
   "execution_count": 4,
   "metadata": {},
   "outputs": [
    {
     "name": "stdout",
     "output_type": "stream",
     "text": [
      "[[4, 14], [6, 8], [12, 2]]\n"
     ]
    }
   ],
   "source": [
    "# 행렬의 스칼라 곱\n",
    "A = [[2, 7],[3, 4],[6, 1]]\n",
    "b = 2\n",
    "\n",
    "n= len(A)\n",
    "p = len(A[0])\n",
    "res = []\n",
    "for i in range(0, n):\n",
    "    row = []\n",
    "    for j in range(0, p):\n",
    "        val = b * A[i][j]\n",
    "        row.append(val)\n",
    "    res.append(row)\n",
    "print(res)"
   ]
  },
  {
   "cell_type": "code",
   "execution_count": 5,
   "metadata": {},
   "outputs": [
    {
     "name": "stdout",
     "output_type": "stream",
     "text": [
      "[[2, 28], [12, -4], [12, 5]]\n"
     ]
    }
   ],
   "source": [
    "# 행렬의 원소 곱\n",
    "A = [[2, 7],[3, 4],[6, 1]]\n",
    "B = [[1, 4], [4, -1], [2, 5]]\n",
    "\n",
    "n= len(A)\n",
    "p = len(A[0])\n",
    "res = []\n",
    "for i in range(0, n):\n",
    "    row = []\n",
    "    for j in range(0, p):\n",
    "        val = A[i][j] * B[i][j]\n",
    "        row.append(val)\n",
    "    res.append(row)\n",
    "print(res)"
   ]
  },
  {
   "cell_type": "code",
   "execution_count": 8,
   "metadata": {},
   "outputs": [
    {
     "name": "stdout",
     "output_type": "stream",
     "text": [
      "[[-1, 8, 3], [5, -1, 11], [17, -16, 29]]\n"
     ]
    }
   ],
   "source": [
    "# 행렬 곱\n",
    "A = [[2, 7],[3, 4],[6, 1]] # 3 * 2\n",
    "B = [[3, -3, 5], [-1, 2, -1]] # 2 * 3\n",
    "\n",
    "n= len(A)\n",
    "p1 = len(A[0])\n",
    "p2 = len(B[0])\n",
    "res = []\n",
    "for i in range(0, n):\n",
    "    row = []\n",
    "    for j in range(0, p2):\n",
    "        val = 0\n",
    "        for k in range(0, p1):\n",
    "            val += A[i][k] * B[k][j]\n",
    "        row.append(val)\n",
    "    res.append(row)\n",
    "print(res)"
   ]
  },
  {
   "cell_type": "code",
   "execution_count": null,
   "metadata": {},
   "outputs": [],
   "source": []
  }
 ],
 "metadata": {
  "kernelspec": {
   "display_name": "deeplearn",
   "language": "python",
   "name": "python3"
  },
  "language_info": {
   "codemirror_mode": {
    "name": "ipython",
    "version": 3
   },
   "file_extension": ".py",
   "mimetype": "text/x-python",
   "name": "python",
   "nbconvert_exporter": "python",
   "pygments_lexer": "ipython3",
   "version": "3.8.18"
  }
 },
 "nbformat": 4,
 "nbformat_minor": 2
}
